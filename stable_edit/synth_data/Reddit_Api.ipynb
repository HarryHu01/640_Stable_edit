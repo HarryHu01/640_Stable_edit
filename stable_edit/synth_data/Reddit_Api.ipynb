{
 "cells": [
  {
   "cell_type": "code",
   "execution_count": 310,
   "id": "e4692709",
   "metadata": {},
   "outputs": [],
   "source": [
    "import requests\n",
    "import requests.auth\n",
    "import regex as re\n",
    "from os.path  import basename\n",
    "import random\n",
    "import string\n",
    "import json\n",
    "\n",
    "\n",
    "client_auth = requests.auth.HTTPBasicAuth('AlFmsJweahucqYg4PwnQhQ', 'TiGAXDkqpxFKi9OYqTJiodHMGVt3Ew')\n",
    "post_data = {\"grant_type\": \"password\", \"username\": \"RedditorInCh1ef\", \"password\": \"Redd1tPassw0rd\"}\n",
    "headers = {\"User-Agent\": \"ChangeMeClient/0.1 by RedditorInCh1ef\"}\n",
    "response = requests.post(\"https://www.reddit.com/api/v1/access_token\", auth=client_auth, data=post_data, headers=headers)\n",
    "auth_response = response.json()\n",
    "\n"
   ]
  },
  {
   "cell_type": "code",
   "execution_count": 335,
   "id": "fe7c7767",
   "metadata": {},
   "outputs": [],
   "source": [
    "def useable_link(i):\n",
    "    \"\"\"\n",
    "    helper for get_links_from_post()\n",
    "    \"\"\"\n",
    "    test = ['jpg','jpeg','png','imgur']\n",
    "    for j in test:\n",
    "        if j in i:\n",
    "            return True\n",
    "    return False\n",
    "\n",
    "def get_links_from_post(postid):\n",
    "    \"\"\"\n",
    "    Takes a post id and returns the possible img links\n",
    "    \"\"\"\n",
    "    comments = requests.get(f'http://oauth.reddit.com/r/photoshoprequest/comments/{postid}', headers=headers)\n",
    "    c = comments.json()\n",
    "    post_comments = [x['data']['body'] for x in c[1]['data']['children']] ##c[0] is post data it appears\n",
    "    reg_link_find = 'https.+?(?=[)\\n\\]])'\n",
    "    results = list(set([j for i in post_comments for j in re.findall(reg_link_find,i)]))\n",
    "    results = [i for i in results if 'paypal' not in i] #no tipjar links\n",
    "    results = [i for i in results if useable_link(i) ] #good links\n",
    "    results = [i.replace('https://imgur.com/','https://i.imgur.com/').strip() for i in results]  #fix the imgur links these need file ext.\n",
    "    results = [i + '.jpg' if ('imgur' in i) else i for i in results]\n",
    "    return results\n",
    "\n",
    "def get_random_string(length):\n",
    "    # choose from all lowercase letter\n",
    "    letters = string.ascii_lowercase\n",
    "    result_str = ''.join(random.choice(letters) for i in range(length))\n",
    "    return result_str\n",
    "\n",
    "def download_image(img_url,length_of_file = 20):\n",
    "    \n",
    "    try:\n",
    "        res=requests.get(img_url,allow_redirects = True,headers= {'Content-type': 'content_type_value'})\n",
    "        response = requests.get(img_url)\n",
    "        ext = response.headers['Content-Type'].split('/')[1]\n",
    "        img_bytes= response.content # download bytes for a image\n",
    "        rand_string = get_random_string(length_of_file)\n",
    "        file_name = f\"{rand_string}.{ext}\"\n",
    "        if ext in ('jpeg','png'):\n",
    "            with open(file_name,\"wb\") as img_file:\n",
    "                img_file.write(img_bytes)\n",
    "            return file_name\n",
    "        else:\n",
    "            pass\n",
    "    except Exception as e:\n",
    "        pass\n",
    "\n",
    "def save_and_document(pre_img_url,post_image_urls,caption):\n",
    "    \"\"\"\n",
    "    Takes a candidate pre_img_url and the resultant list from get_links_from_post\n",
    "    saves the pre img if there is at least one output img.  saves files (makes sure they are unique)\n",
    "    and adds to the metadata file.\n",
    "    \"\"\"\n",
    "    output_image_list = []\n",
    "    #input_image = [] ## this will be a list, of the ones that work.\n",
    "    \n",
    "    for link_candidate in post_image_urls:\n",
    "        file_name = download_image(link_candidate)\n",
    "        if file_name is not None:\n",
    "            output_image_list.append(file_name)\n",
    "    \n",
    "    if len(output_image_list) > 0:\n",
    "        input_image_file = download_image(pre_img_url,length_of_file = 20)\n",
    "    \n",
    "        if len(input_image_file) > 0:\n",
    "            for output_image in output_image_list:\n",
    "                dictionary = {\"output_image\": output_image, \"input_image\":input_image_file, \"text\":caption}\n",
    "                json_object = json.dumps(dictionary, indent=4)\n",
    "                with open(\"metadata.jsonl\", \"a\") as outfile:\n",
    "                    outfile.write(json_object)\n",
    "            \n",
    "    #return input_image_file"
   ]
  },
  {
   "cell_type": "code",
   "execution_count": 313,
   "id": "674d8949",
   "metadata": {},
   "outputs": [
    {
     "data": {
      "text/plain": [
       "'38076669-102z4927cOf4Uof5DqpPpPFh1BQ05w'"
      ]
     },
     "execution_count": 313,
     "metadata": {},
     "output_type": "execute_result"
    }
   ],
   "source": [
    "auth_response['access_token']"
   ]
  },
  {
   "cell_type": "code",
   "execution_count": 314,
   "id": "ca8fa1f8",
   "metadata": {},
   "outputs": [
    {
     "data": {
      "text/plain": [
       "'bearer 38076669-102z4927cOf4Uof5DqpPpPFh1BQ05w'"
      ]
     },
     "execution_count": 314,
     "metadata": {},
     "output_type": "execute_result"
    }
   ],
   "source": [
    "token = auth_response['access_token']\n",
    "auth = \"bearer \" + token\n",
    "auth"
   ]
  },
  {
   "cell_type": "code",
   "execution_count": 336,
   "id": "291f58f2",
   "metadata": {},
   "outputs": [],
   "source": [
    "headers = {\"Authorization\": auth, \"User-Agent\": \"ChangeMeClient/0.1 by RedditorInCh1ef\"}\n",
    "response = requests.get(\"https://oauth.reddit.com/r/photoshoprequest/hot\", headers=headers)\n",
    "x = response.json()"
   ]
  },
  {
   "cell_type": "code",
   "execution_count": 339,
   "id": "5baec40d",
   "metadata": {},
   "outputs": [],
   "source": [
    "def posts_to_dataset(post_response):\n",
    "    posts = post_response['data']['children']\n",
    "    \n",
    "    for post in posts:\n",
    "        caption = post['data']['title']\n",
    "        input_url = post['data']['url']\n",
    "        postid = post['data']['id']\n",
    "        print(post['data']['num_comments'])\n",
    "        print(input_url)\n",
    "        post_image_urls = get_links_from_post(postid)\n",
    "        \n",
    "        save_and_document(input_url,post_image_urls,caption)"
   ]
  },
  {
   "cell_type": "code",
   "execution_count": 340,
   "id": "98965b6a",
   "metadata": {},
   "outputs": [
    {
     "name": "stdout",
     "output_type": "stream",
     "text": [
      "47\n",
      "https://www.reddit.com/r/PhotoshopRequest/comments/yigoz2/some_updates_please_read/\n",
      "44\n",
      "https://i.redd.it/jcl3x7r9ab2a1.jpg\n",
      "14\n",
      "https://i.redd.it/lhgt05kztd2a1.jpg\n",
      "19\n",
      "https://i.redd.it/v42danvgnf2a1.jpg\n",
      "201\n",
      "https://i.redd.it/vt164n3wr62a1.jpg\n"
     ]
    },
    {
     "ename": "KeyError",
     "evalue": "'body'",
     "output_type": "error",
     "traceback": [
      "\u001b[0;31m---------------------------------------------------------------------------\u001b[0m",
      "\u001b[0;31mKeyError\u001b[0m                                  Traceback (most recent call last)",
      "Input \u001b[0;32mIn [340]\u001b[0m, in \u001b[0;36m<cell line: 1>\u001b[0;34m()\u001b[0m\n\u001b[0;32m----> 1\u001b[0m \u001b[43mposts_to_dataset\u001b[49m\u001b[43m(\u001b[49m\u001b[43mx\u001b[49m\u001b[43m)\u001b[49m\n",
      "Input \u001b[0;32mIn [339]\u001b[0m, in \u001b[0;36mposts_to_dataset\u001b[0;34m(post_response)\u001b[0m\n\u001b[1;32m      8\u001b[0m \u001b[38;5;28mprint\u001b[39m(post[\u001b[38;5;124m'\u001b[39m\u001b[38;5;124mdata\u001b[39m\u001b[38;5;124m'\u001b[39m][\u001b[38;5;124m'\u001b[39m\u001b[38;5;124mnum_comments\u001b[39m\u001b[38;5;124m'\u001b[39m])\n\u001b[1;32m      9\u001b[0m \u001b[38;5;28mprint\u001b[39m(input_url)\n\u001b[0;32m---> 10\u001b[0m post_image_urls \u001b[38;5;241m=\u001b[39m \u001b[43mget_links_from_post\u001b[49m\u001b[43m(\u001b[49m\u001b[43mpostid\u001b[49m\u001b[43m)\u001b[49m\n\u001b[1;32m     12\u001b[0m save_and_document(input_url,post_image_urls,caption)\n",
      "Input \u001b[0;32mIn [335]\u001b[0m, in \u001b[0;36mget_links_from_post\u001b[0;34m(postid)\u001b[0m\n\u001b[1;32m     15\u001b[0m comments \u001b[38;5;241m=\u001b[39m requests\u001b[38;5;241m.\u001b[39mget(\u001b[38;5;124mf\u001b[39m\u001b[38;5;124m'\u001b[39m\u001b[38;5;124mhttp://oauth.reddit.com/r/photoshoprequest/comments/\u001b[39m\u001b[38;5;132;01m{\u001b[39;00mpostid\u001b[38;5;132;01m}\u001b[39;00m\u001b[38;5;124m'\u001b[39m, headers\u001b[38;5;241m=\u001b[39mheaders)\n\u001b[1;32m     16\u001b[0m c \u001b[38;5;241m=\u001b[39m comments\u001b[38;5;241m.\u001b[39mjson()\n\u001b[0;32m---> 17\u001b[0m post_comments \u001b[38;5;241m=\u001b[39m [x[\u001b[38;5;124m'\u001b[39m\u001b[38;5;124mdata\u001b[39m\u001b[38;5;124m'\u001b[39m][\u001b[38;5;124m'\u001b[39m\u001b[38;5;124mbody\u001b[39m\u001b[38;5;124m'\u001b[39m] \u001b[38;5;28;01mfor\u001b[39;00m x \u001b[38;5;129;01min\u001b[39;00m c[\u001b[38;5;241m1\u001b[39m][\u001b[38;5;124m'\u001b[39m\u001b[38;5;124mdata\u001b[39m\u001b[38;5;124m'\u001b[39m][\u001b[38;5;124m'\u001b[39m\u001b[38;5;124mchildren\u001b[39m\u001b[38;5;124m'\u001b[39m]] \u001b[38;5;66;03m##c[0] is post data it appears\u001b[39;00m\n\u001b[1;32m     18\u001b[0m reg_link_find \u001b[38;5;241m=\u001b[39m \u001b[38;5;124m'\u001b[39m\u001b[38;5;124mhttps.+?(?=[)\u001b[39m\u001b[38;5;130;01m\\n\u001b[39;00m\u001b[38;5;124m\\\u001b[39m\u001b[38;5;124m]])\u001b[39m\u001b[38;5;124m'\u001b[39m\n\u001b[1;32m     19\u001b[0m results \u001b[38;5;241m=\u001b[39m \u001b[38;5;28mlist\u001b[39m(\u001b[38;5;28mset\u001b[39m([j \u001b[38;5;28;01mfor\u001b[39;00m i \u001b[38;5;129;01min\u001b[39;00m post_comments \u001b[38;5;28;01mfor\u001b[39;00m j \u001b[38;5;129;01min\u001b[39;00m re\u001b[38;5;241m.\u001b[39mfindall(reg_link_find,i)]))\n",
      "Input \u001b[0;32mIn [335]\u001b[0m, in \u001b[0;36m<listcomp>\u001b[0;34m(.0)\u001b[0m\n\u001b[1;32m     15\u001b[0m comments \u001b[38;5;241m=\u001b[39m requests\u001b[38;5;241m.\u001b[39mget(\u001b[38;5;124mf\u001b[39m\u001b[38;5;124m'\u001b[39m\u001b[38;5;124mhttp://oauth.reddit.com/r/photoshoprequest/comments/\u001b[39m\u001b[38;5;132;01m{\u001b[39;00mpostid\u001b[38;5;132;01m}\u001b[39;00m\u001b[38;5;124m'\u001b[39m, headers\u001b[38;5;241m=\u001b[39mheaders)\n\u001b[1;32m     16\u001b[0m c \u001b[38;5;241m=\u001b[39m comments\u001b[38;5;241m.\u001b[39mjson()\n\u001b[0;32m---> 17\u001b[0m post_comments \u001b[38;5;241m=\u001b[39m [\u001b[43mx\u001b[49m\u001b[43m[\u001b[49m\u001b[38;5;124;43m'\u001b[39;49m\u001b[38;5;124;43mdata\u001b[39;49m\u001b[38;5;124;43m'\u001b[39;49m\u001b[43m]\u001b[49m\u001b[43m[\u001b[49m\u001b[38;5;124;43m'\u001b[39;49m\u001b[38;5;124;43mbody\u001b[39;49m\u001b[38;5;124;43m'\u001b[39;49m\u001b[43m]\u001b[49m \u001b[38;5;28;01mfor\u001b[39;00m x \u001b[38;5;129;01min\u001b[39;00m c[\u001b[38;5;241m1\u001b[39m][\u001b[38;5;124m'\u001b[39m\u001b[38;5;124mdata\u001b[39m\u001b[38;5;124m'\u001b[39m][\u001b[38;5;124m'\u001b[39m\u001b[38;5;124mchildren\u001b[39m\u001b[38;5;124m'\u001b[39m]] \u001b[38;5;66;03m##c[0] is post data it appears\u001b[39;00m\n\u001b[1;32m     18\u001b[0m reg_link_find \u001b[38;5;241m=\u001b[39m \u001b[38;5;124m'\u001b[39m\u001b[38;5;124mhttps.+?(?=[)\u001b[39m\u001b[38;5;130;01m\\n\u001b[39;00m\u001b[38;5;124m\\\u001b[39m\u001b[38;5;124m]])\u001b[39m\u001b[38;5;124m'\u001b[39m\n\u001b[1;32m     19\u001b[0m results \u001b[38;5;241m=\u001b[39m \u001b[38;5;28mlist\u001b[39m(\u001b[38;5;28mset\u001b[39m([j \u001b[38;5;28;01mfor\u001b[39;00m i \u001b[38;5;129;01min\u001b[39;00m post_comments \u001b[38;5;28;01mfor\u001b[39;00m j \u001b[38;5;129;01min\u001b[39;00m re\u001b[38;5;241m.\u001b[39mfindall(reg_link_find,i)]))\n",
      "\u001b[0;31mKeyError\u001b[0m: 'body'"
     ]
    }
   ],
   "source": [
    "posts_to_dataset(x)"
   ]
  },
  {
   "cell_type": "code",
   "execution_count": 308,
   "id": "f50c89a3",
   "metadata": {},
   "outputs": [
    {
     "ename": "TypeError",
     "evalue": "list indices must be integers or slices, not str",
     "output_type": "error",
     "traceback": [
      "\u001b[0;31m---------------------------------------------------------------------------\u001b[0m",
      "\u001b[0;31mTypeError\u001b[0m                                 Traceback (most recent call last)",
      "Input \u001b[0;32mIn [308]\u001b[0m, in \u001b[0;36m<cell line: 1>\u001b[0;34m()\u001b[0m\n\u001b[0;32m----> 1\u001b[0m \u001b[43mx\u001b[49m\u001b[43m[\u001b[49m\u001b[38;5;124;43m'\u001b[39;49m\u001b[38;5;124;43mdata\u001b[39;49m\u001b[38;5;124;43m'\u001b[39;49m\u001b[43m]\u001b[49m[\u001b[38;5;124m'\u001b[39m\u001b[38;5;124mchildren\u001b[39m\u001b[38;5;124m'\u001b[39m][\u001b[38;5;241m1\u001b[39m][\u001b[38;5;124m'\u001b[39m\u001b[38;5;124mdata\u001b[39m\u001b[38;5;124m'\u001b[39m][\u001b[38;5;124m'\u001b[39m\u001b[38;5;124mtitle\u001b[39m\u001b[38;5;124m'\u001b[39m]\n",
      "\u001b[0;31mTypeError\u001b[0m: list indices must be integers or slices, not str"
     ]
    }
   ],
   "source": [
    "x['data']['children'][1]['data']['title']  ##this is the text"
   ]
  },
  {
   "cell_type": "code",
   "execution_count": 239,
   "id": "0e66fdb0",
   "metadata": {},
   "outputs": [
    {
     "data": {
      "text/plain": [
       "'https://i.redd.it/jcl3x7r9ab2a1.jpg'"
      ]
     },
     "execution_count": 239,
     "metadata": {},
     "output_type": "execute_result"
    }
   ],
   "source": [
    "x['data']['children'][1]['data']['url']  ##i think this is the request (input) photo\n",
    "##look at x['data']['children'][1]['data']['preview'], it has some stuff\n",
    "##x['data']['children'][1]['data']['url_overridden_by_dest'] This one is identical in this case, maybe check both?"
   ]
  },
  {
   "cell_type": "code",
   "execution_count": 37,
   "id": "236e868a",
   "metadata": {},
   "outputs": [
    {
     "data": {
      "text/plain": [
       "36"
      ]
     },
     "execution_count": 37,
     "metadata": {},
     "output_type": "execute_result"
    }
   ],
   "source": [
    "x['data']['children'][1]['data']['num_comments'] ##check this before getting the comments"
   ]
  },
  {
   "cell_type": "code",
   "execution_count": 240,
   "id": "0d164e94",
   "metadata": {},
   "outputs": [],
   "source": [
    "postid = x['data']['children'][1]['data']['id']"
   ]
  },
  {
   "cell_type": "code",
   "execution_count": 241,
   "id": "79fe3df3",
   "metadata": {},
   "outputs": [
    {
     "data": {
      "text/plain": [
       "'z59rkr'"
      ]
     },
     "execution_count": 241,
     "metadata": {},
     "output_type": "execute_result"
    }
   ],
   "source": [
    "postid"
   ]
  },
  {
   "cell_type": "code",
   "execution_count": 242,
   "id": "6189b1ee",
   "metadata": {},
   "outputs": [],
   "source": [
    "#x = get_links_from_post(postid)\n",
    "\n",
    "comments = requests.get(f'http://oauth.reddit.com/r/photoshoprequest/comments/{postid}', headers=headers)\n",
    "c = comments.json()\n"
   ]
  },
  {
   "cell_type": "code",
   "execution_count": 244,
   "id": "4dcac36c",
   "metadata": {},
   "outputs": [],
   "source": [
    "x = get_links_from_post(postid)"
   ]
  },
  {
   "cell_type": "code",
   "execution_count": 250,
   "id": "6e0b19b8",
   "metadata": {},
   "outputs": [
    {
     "data": {
      "text/plain": [
       "'https://i.imgur.com/XU6L4R9.jpg'"
      ]
     },
     "execution_count": 250,
     "metadata": {},
     "output_type": "execute_result"
    }
   ],
   "source": [
    "x[4]"
   ]
  },
  {
   "cell_type": "code",
   "execution_count": 309,
   "id": "c0097f3f",
   "metadata": {},
   "outputs": [
    {
     "data": {
      "text/plain": [
       "'mliiidjjcbablupcugws.jpeg'"
      ]
     },
     "execution_count": 309,
     "metadata": {},
     "output_type": "execute_result"
    }
   ],
   "source": [
    "save_and_document('https://i.redd.it/jcl3x7r9ab2a1.jpg',x,\"the caption for the picture\")"
   ]
  },
  {
   "cell_type": "code",
   "execution_count": null,
   "id": "24c1d57f",
   "metadata": {},
   "outputs": [],
   "source": []
  },
  {
   "cell_type": "code",
   "execution_count": 288,
   "id": "b23505ce",
   "metadata": {},
   "outputs": [],
   "source": [
    "download_image('cdfg')"
   ]
  },
  {
   "cell_type": "code",
   "execution_count": 280,
   "id": "7c473b93",
   "metadata": {},
   "outputs": [
    {
     "data": {
      "text/plain": [
       "'jpeg'"
      ]
     },
     "execution_count": 280,
     "metadata": {},
     "output_type": "execute_result"
    }
   ],
   "source": [
    "xx.headers['Content-Type'].split('/')[1]"
   ]
  },
  {
   "cell_type": "code",
   "execution_count": null,
   "id": "1103c219",
   "metadata": {},
   "outputs": [],
   "source": [
    "##https://github.com/zuruoke/watermark-removal"
   ]
  },
  {
   "cell_type": "code",
   "execution_count": null,
   "id": "d24705d9",
   "metadata": {},
   "outputs": [],
   "source": [
    "#https://i.imgur.com/XU6L4R9.jpeg"
   ]
  },
  {
   "cell_type": "code",
   "execution_count": 148,
   "id": "4a9fb008",
   "metadata": {},
   "outputs": [],
   "source": [
    "images = soup.findAll('meta')"
   ]
  },
  {
   "cell_type": "code",
   "execution_count": 206,
   "id": "eb558379",
   "metadata": {},
   "outputs": [],
   "source": [
    "output_image = \"whatever\"\n",
    "input_image = \"whatever_alse\"\n",
    "caption = \"something else\"\n",
    "metadata_string = f'{{\"output_image\": {output_image}, \"input_image\":{input_image}, \"text\":{caption}}}'"
   ]
  },
  {
   "cell_type": "code",
   "execution_count": 207,
   "id": "d4a6bd60",
   "metadata": {},
   "outputs": [
    {
     "data": {
      "text/plain": [
       "'{\"output_image\": whatever, \"input_image\":whatever_alse, \"text\":something else}'"
      ]
     },
     "execution_count": 207,
     "metadata": {},
     "output_type": "execute_result"
    }
   ],
   "source": [
    "metadata_string"
   ]
  },
  {
   "cell_type": "code",
   "execution_count": null,
   "id": "dc7c9898",
   "metadata": {},
   "outputs": [],
   "source": []
  }
 ],
 "metadata": {
  "kernelspec": {
   "display_name": "Python 3 (ipykernel)",
   "language": "python",
   "name": "python3"
  },
  "language_info": {
   "codemirror_mode": {
    "name": "ipython",
    "version": 3
   },
   "file_extension": ".py",
   "mimetype": "text/x-python",
   "name": "python",
   "nbconvert_exporter": "python",
   "pygments_lexer": "ipython3",
   "version": "3.9.12"
  }
 },
 "nbformat": 4,
 "nbformat_minor": 5
}
